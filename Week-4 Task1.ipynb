{
 "cells": [
  {
   "cell_type": "markdown",
   "metadata": {},
   "source": [
    "# LMS Task 1"
   ]
  },
  {
   "cell_type": "code",
   "execution_count": 1,
   "metadata": {},
   "outputs": [],
   "source": [
    "import dash\n",
    "import dash_core_components as dcc \t#This library will give us the dashboard elements (pie charts, scatter plots, bar graphs etc)\n",
    "import dash_html_components as html \t#This library allows us to arrange the elements from dcc in a page as is done using html/css (how the internet generally does it)\n",
    "\n",
    "#Fancy Styles and fonts provided to us by nice people\n",
    "external_stylesheets = ['https://codepen.io/chriddyp/pen/bWLwgP.css']\n",
    "\n",
    "\n",
    "app = dash.Dash(__name__, external_stylesheets=external_stylesheets)\n",
    "\n",
    "months = ['Jan', 'Feb', 'Mar', 'Apr', 'May'] #Will form our x-axis later\n",
    "p2_prod = [10,19,24,22,16]\t#production of p2 as a list\n",
    "\n",
    "# This structure represents the bar graph\n",
    "# id: The html id of the bar graph\n",
    "# figure: info that actually goes into the bar graph. It is a python dictionary\n",
    "# data: The data for the x and y axis. The type of the graph and the name of the graph. Different types and names documented by plotly (https://plot.ly/python/bar-charts/) or (https://plot.ly/python/)\n",
    "# layout: A dict containing various attributes. The full list of possibilities lives in dcc code(https://github.com/plotly/plotly.py/blob/master/plotly/graph_objs/layout/__init__.py) <If you actually make it here, search the document for the word \"setter\" and should see other properties that you can set as font, color, gridcolor, gridwidth etc>\n",
    "bar2 = dcc.Graph(\n",
    "        id='barChart-p2',\t\n",
    "        figure={\n",
    "            'data': [\n",
    "                {'x': months, 'y': p2_prod, 'type': 'bar', 'name': 'P2'}\n",
    "                    ],\n",
    "            'layout': {\n",
    "                'title': 'Powerplant p2 production'\n",
    "            }\n",
    "        }\n",
    "    )\n",
    "\n",
    "#This structure draws the layout of the dashboard page itself. An HTML page is drawn as a series of boxes. If box C is inside box P, box C is said to be a child of the box P. The overall \"box\" is called an html.div\n",
    "\n",
    "#In this case, the structure is:\n",
    "\t# *html.h1\n",
    "\t# *html.Div\n",
    "\t# *bar2\n",
    "# In future labs, you shall see boxes inside boxes. To draw the layout of the page, it is important which elements are children of which other elements\n",
    "app.layout = html.Div(children=[\n",
    "    html.H1(children='ALU AIIP'),\n",
    "\n",
    "    html.Div(children='''\n",
    "        ACME inc's web dashboard. Built using Dash: A web application framework for Python.\n",
    "    '''),\n",
    "    bar2\n",
    "])\n"
   ]
  }
 ],
 "metadata": {
  "kernelspec": {
   "display_name": "Python 3",
   "language": "python",
   "name": "python3"
  },
  "language_info": {
   "codemirror_mode": {
    "name": "ipython",
    "version": 3
   },
   "file_extension": ".py",
   "mimetype": "text/x-python",
   "name": "python",
   "nbconvert_exporter": "python",
   "pygments_lexer": "ipython3",
   "version": "3.8.8"
  }
 },
 "nbformat": 4,
 "nbformat_minor": 2
}

{
 "cells": [
  {
   "cell_type": "code",
   "execution_count": 1,
   "metadata": {},
   "outputs": [],
   "source": [
    "import dash\n",
    "import dash_core_components as dcc\n",
    "import dash_html_components as html\n",
    "\n",
    "external_stylesheets = ['https://codepen.io/chriddyp/pen/bWLwgP.css']"
   ]
  },
  {
   "cell_type": "code",
   "execution_count": 4,
   "metadata": {},
   "outputs": [],
   "source": [
    "app = dash.Dash(__name__, external_stylesheets=external_stylesheets)\n",
    "app.layout = html.Div(children=[html.H1(children='Engine Temperature Monitoring'),\n",
    "                                html.H3(children='''Team Members: Carissa, Fauzia, Matlotlo, Sunday, Maureen '''),\n",
    "                                html.Div(children='''Dashboard work in progress. To be updated when wireframes are completed ''')\n",
    "                               ])\n",
    "                        "
   ]
  },
  {
   "cell_type": "code",
   "execution_count": 5,
   "metadata": {},
   "outputs": [
    {
     "name": "stdout",
     "output_type": "stream",
     "text": [
      " * Serving Flask app \"__main__\" (lazy loading)\n",
      " * Environment: production\n",
      "   WARNING: This is a development server. Do not use it in a production deployment.\n",
      "   Use a production WSGI server instead.\n",
      " * Debug mode: off\n"
     ]
    },
    {
     "name": "stderr",
     "output_type": "stream",
     "text": [
      " * Running on http://127.0.0.1:8050/ (Press CTRL+C to quit)\n",
      "127.0.0.1 - - [12/Sep/2019 17:05:41] \"GET / HTTP/1.1\" 200 -\n",
      "127.0.0.1 - - [12/Sep/2019 17:05:42] \"GET /_dash-component-suites/dash_renderer/react@16.8.6.min.js?v=1.0.1&m=1566937364 HTTP/1.1\" 200 -\n",
      "127.0.0.1 - - [12/Sep/2019 17:05:42] \"GET /_dash-component-suites/dash_renderer/react-dom@16.8.6.min.js?v=1.0.1&m=1566937364 HTTP/1.1\" 200 -\n",
      "127.0.0.1 - - [12/Sep/2019 17:05:42] \"GET /_dash-component-suites/dash_renderer/prop-types@15.7.2.min.js?v=1.0.1&m=1566937364 HTTP/1.1\" 200 -\n",
      "127.0.0.1 - - [12/Sep/2019 17:05:42] \"GET /_dash-component-suites/dash_core_components/highlight.pack.js?v=1.1.2&m=1565030553 HTTP/1.1\" 200 -\n",
      "127.0.0.1 - - [12/Sep/2019 17:05:42] \"GET /_dash-component-suites/dash_html_components/dash_html_components.min.js?v=1.0.1&m=1566936214 HTTP/1.1\" 200 -\n",
      "127.0.0.1 - - [12/Sep/2019 17:05:42] \"GET /_dash-component-suites/dash_core_components/dash_core_components.min.js?v=1.1.2&m=1566935618 HTTP/1.1\" 200 -\n",
      "127.0.0.1 - - [12/Sep/2019 17:05:42] \"GET /_dash-component-suites/dash_renderer/dash_renderer.min.js?v=1.0.1&m=1566937380 HTTP/1.1\" 200 -\n",
      "127.0.0.1 - - [12/Sep/2019 17:05:42] \"GET /_dash-component-suites/dash_core_components/plotly-1.49.4.min.js?v=1.1.2&m=1566922694 HTTP/1.1\" 200 -\n",
      "127.0.0.1 - - [12/Sep/2019 17:05:43] \"GET /_dash-layout HTTP/1.1\" 200 -\n",
      "127.0.0.1 - - [12/Sep/2019 17:05:43] \"GET /_dash-dependencies HTTP/1.1\" 200 -\n"
     ]
    }
   ],
   "source": [
    "if __name__ == '__main__':\n",
    "    app.run_server()"
   ]
  },
  {
   "cell_type": "code",
   "execution_count": null,
   "metadata": {},
   "outputs": [],
   "source": []
  }
 ],
 "metadata": {
  "kernelspec": {
   "display_name": "Python 3",
   "language": "python",
   "name": "python3"
  },
  "language_info": {
   "codemirror_mode": {
    "name": "ipython",
    "version": 3
   },
   "file_extension": ".py",
   "mimetype": "text/x-python",
   "name": "python",
   "nbconvert_exporter": "python",
   "pygments_lexer": "ipython3",
   "version": "3.7.0"
  }
 },
 "nbformat": 4,
 "nbformat_minor": 2
}

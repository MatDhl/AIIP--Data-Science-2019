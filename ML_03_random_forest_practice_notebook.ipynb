{
 "cells": [
  {
   "cell_type": "markdown",
   "metadata": {},
   "source": [
    "## Random forest regression on wind turbine data"
   ]
  },
  {
   "cell_type": "markdown",
   "metadata": {},
   "source": [
    "Random forest predicts a variable. Choose predictor variable(s) to predict target variable. Recall that a random forest is an ensemble estimator."
   ]
  },
  {
   "cell_type": "markdown",
   "metadata": {},
   "source": [
    "### The data\n",
    "La Haute Borne is a wind farm in France. It consists of turbines that generate power. Many technical features were measured which influence power output of the wind turbines. The data includes many technical features as well as environmental variables such as wind speed. "
   ]
  },
  {
   "cell_type": "markdown",
   "metadata": {},
   "source": [
    "### The goal\n",
    "Predict power output for each turbine using the input variables given. "
   ]
  },
  {
   "cell_type": "markdown",
   "metadata": {},
   "source": [
    "## Preliminaries"
   ]
  },
  {
   "cell_type": "markdown",
   "metadata": {},
   "source": [
    "Load the necessary libraries."
   ]
  },
  {
   "cell_type": "code",
   "execution_count": 1,
   "metadata": {},
   "outputs": [],
   "source": [
    "from sklearn.ensemble import RandomForestRegressor\n",
    "from sklearn.decomposition import PCA\n",
    "from sklearn.model_selection import train_test_split\n",
    "from sklearn.preprocessing import StandardScaler\n",
    "from sklearn.metrics import accuracy_score\n",
    "import matplotlib.pyplot as plt\n",
    "import pandas as pd\n",
    "import numpy as np\n",
    "import seaborn as sns"
   ]
  },
  {
   "cell_type": "code",
   "execution_count": 2,
   "metadata": {},
   "outputs": [],
   "source": [
    "%matplotlib inline"
   ]
  },
  {
   "cell_type": "markdown",
   "metadata": {},
   "source": [
    "A description of the column headings is given in the following file."
   ]
  },
  {
   "cell_type": "code",
   "execution_count": 3,
   "metadata": {},
   "outputs": [],
   "source": [
    "descript = pd.read_csv('data_description.csv', sep=';')"
   ]
  },
  {
   "cell_type": "code",
   "execution_count": 4,
   "metadata": {},
   "outputs": [
    {
     "data": {
      "text/plain": [
       "(34, 4)"
      ]
     },
     "execution_count": 4,
     "metadata": {},
     "output_type": "execute_result"
    }
   ],
   "source": [
    "descript.shape"
   ]
  },
  {
   "cell_type": "code",
   "execution_count": 5,
   "metadata": {},
   "outputs": [
    {
     "data": {
      "text/html": [
       "<div>\n",
       "<style scoped>\n",
       "    .dataframe tbody tr th:only-of-type {\n",
       "        vertical-align: middle;\n",
       "    }\n",
       "\n",
       "    .dataframe tbody tr th {\n",
       "        vertical-align: top;\n",
       "    }\n",
       "\n",
       "    .dataframe thead th {\n",
       "        text-align: right;\n",
       "    }\n",
       "</style>\n",
       "<table border=\"1\" class=\"dataframe\">\n",
       "  <thead>\n",
       "    <tr style=\"text-align: right;\">\n",
       "      <th></th>\n",
       "      <th>Variable_name</th>\n",
       "      <th>Variable_long_name</th>\n",
       "      <th>Unit_long_name</th>\n",
       "      <th>Comment</th>\n",
       "    </tr>\n",
       "  </thead>\n",
       "  <tbody>\n",
       "    <tr>\n",
       "      <th>0</th>\n",
       "      <td>Va2</td>\n",
       "      <td>Vane_position_2</td>\n",
       "      <td>deg</td>\n",
       "      <td>Second wind vane on the nacelle</td>\n",
       "    </tr>\n",
       "    <tr>\n",
       "      <th>1</th>\n",
       "      <td>Ws2</td>\n",
       "      <td>Wind_speed_2</td>\n",
       "      <td>m/s</td>\n",
       "      <td>Second anemometer on the nacelle</td>\n",
       "    </tr>\n",
       "    <tr>\n",
       "      <th>2</th>\n",
       "      <td>Ws</td>\n",
       "      <td>Wind_speed</td>\n",
       "      <td>m/s</td>\n",
       "      <td>Average wind speed</td>\n",
       "    </tr>\n",
       "    <tr>\n",
       "      <th>3</th>\n",
       "      <td>Wa_c</td>\n",
       "      <td>Absolute_wind_direction_corrected</td>\n",
       "      <td>deg</td>\n",
       "      <td>NaN</td>\n",
       "    </tr>\n",
       "    <tr>\n",
       "      <th>4</th>\n",
       "      <td>Na_c</td>\n",
       "      <td>Nacelle_angle_corrected</td>\n",
       "      <td>deg</td>\n",
       "      <td>NaN</td>\n",
       "    </tr>\n",
       "    <tr>\n",
       "      <th>5</th>\n",
       "      <td>Ot</td>\n",
       "      <td>Outdoor_temperature</td>\n",
       "      <td>deg_C</td>\n",
       "      <td>NaN</td>\n",
       "    </tr>\n",
       "    <tr>\n",
       "      <th>6</th>\n",
       "      <td>Yt</td>\n",
       "      <td>Nacelle_temperature</td>\n",
       "      <td>deg_C</td>\n",
       "      <td>NaN</td>\n",
       "    </tr>\n",
       "    <tr>\n",
       "      <th>7</th>\n",
       "      <td>Nf</td>\n",
       "      <td>Grid_frequency</td>\n",
       "      <td>Hz</td>\n",
       "      <td>NaN</td>\n",
       "    </tr>\n",
       "    <tr>\n",
       "      <th>8</th>\n",
       "      <td>Nu</td>\n",
       "      <td>Grid_voltage</td>\n",
       "      <td>V</td>\n",
       "      <td>NaN</td>\n",
       "    </tr>\n",
       "    <tr>\n",
       "      <th>9</th>\n",
       "      <td>Rm</td>\n",
       "      <td>Torque</td>\n",
       "      <td>Nm</td>\n",
       "      <td>NaN</td>\n",
       "    </tr>\n",
       "    <tr>\n",
       "      <th>10</th>\n",
       "      <td>Dst</td>\n",
       "      <td>Generator_stator_temperature</td>\n",
       "      <td>deg_C</td>\n",
       "      <td>NaN</td>\n",
       "    </tr>\n",
       "    <tr>\n",
       "      <th>11</th>\n",
       "      <td>Git</td>\n",
       "      <td>Gearbox_inlet_temperature</td>\n",
       "      <td>deg_C</td>\n",
       "      <td>NaN</td>\n",
       "    </tr>\n",
       "    <tr>\n",
       "      <th>12</th>\n",
       "      <td>Q</td>\n",
       "      <td>Reactive_power</td>\n",
       "      <td>kVAr</td>\n",
       "      <td>NaN</td>\n",
       "    </tr>\n",
       "    <tr>\n",
       "      <th>13</th>\n",
       "      <td>Gb2t</td>\n",
       "      <td>Gearbox_bearing_2_temperature</td>\n",
       "      <td>deg_C</td>\n",
       "      <td>NaN</td>\n",
       "    </tr>\n",
       "    <tr>\n",
       "      <th>14</th>\n",
       "      <td>Gost</td>\n",
       "      <td>Gearbox_oil_sump_temperature</td>\n",
       "      <td>deg_C</td>\n",
       "      <td>NaN</td>\n",
       "    </tr>\n",
       "    <tr>\n",
       "      <th>15</th>\n",
       "      <td>DCs</td>\n",
       "      <td>Generator_converter_speed</td>\n",
       "      <td>rpm</td>\n",
       "      <td>NaN</td>\n",
       "    </tr>\n",
       "    <tr>\n",
       "      <th>16</th>\n",
       "      <td>Wa</td>\n",
       "      <td>Absolute_wind_direction</td>\n",
       "      <td>deg</td>\n",
       "      <td>NaN</td>\n",
       "    </tr>\n",
       "    <tr>\n",
       "      <th>17</th>\n",
       "      <td>Ds</td>\n",
       "      <td>Generator_speed</td>\n",
       "      <td>rpm</td>\n",
       "      <td>NaN</td>\n",
       "    </tr>\n",
       "    <tr>\n",
       "      <th>18</th>\n",
       "      <td>Cm</td>\n",
       "      <td>Converter_torque</td>\n",
       "      <td>Nm</td>\n",
       "      <td>NaN</td>\n",
       "    </tr>\n",
       "    <tr>\n",
       "      <th>19</th>\n",
       "      <td>Va</td>\n",
       "      <td>Vane_position</td>\n",
       "      <td>deg</td>\n",
       "      <td>NaN</td>\n",
       "    </tr>\n",
       "    <tr>\n",
       "      <th>20</th>\n",
       "      <td>Ya</td>\n",
       "      <td>Nacelle_angle</td>\n",
       "      <td>deg</td>\n",
       "      <td>NaN</td>\n",
       "    </tr>\n",
       "    <tr>\n",
       "      <th>21</th>\n",
       "      <td>Rs</td>\n",
       "      <td>Rotor_speed</td>\n",
       "      <td>rpm</td>\n",
       "      <td>NaN</td>\n",
       "    </tr>\n",
       "    <tr>\n",
       "      <th>22</th>\n",
       "      <td>S</td>\n",
       "      <td>Apparent_power</td>\n",
       "      <td>kVA</td>\n",
       "      <td>Should be the square root of the sum of P squa...</td>\n",
       "    </tr>\n",
       "    <tr>\n",
       "      <th>23</th>\n",
       "      <td>Cosphi</td>\n",
       "      <td>Power_factor</td>\n",
       "      <td>NaN</td>\n",
       "      <td>Should equal P/S</td>\n",
       "    </tr>\n",
       "    <tr>\n",
       "      <th>24</th>\n",
       "      <td>Rt</td>\n",
       "      <td>Hub_temperature</td>\n",
       "      <td>deg_C</td>\n",
       "      <td>NaN</td>\n",
       "    </tr>\n",
       "    <tr>\n",
       "      <th>25</th>\n",
       "      <td>Ba</td>\n",
       "      <td>Pitch_angle</td>\n",
       "      <td>deg</td>\n",
       "      <td>NaN</td>\n",
       "    </tr>\n",
       "    <tr>\n",
       "      <th>26</th>\n",
       "      <td>P</td>\n",
       "      <td>Active_power</td>\n",
       "      <td>kW</td>\n",
       "      <td>NaN</td>\n",
       "    </tr>\n",
       "    <tr>\n",
       "      <th>27</th>\n",
       "      <td>Va1</td>\n",
       "      <td>Vane_position_1</td>\n",
       "      <td>deg</td>\n",
       "      <td>First wind vane on the nacelle</td>\n",
       "    </tr>\n",
       "    <tr>\n",
       "      <th>28</th>\n",
       "      <td>Ws1</td>\n",
       "      <td>Wind_speed_1</td>\n",
       "      <td>m/s</td>\n",
       "      <td>First anemometer on the nacelle</td>\n",
       "    </tr>\n",
       "    <tr>\n",
       "      <th>29</th>\n",
       "      <td>Db2t</td>\n",
       "      <td>Generator_bearing_2_temperature</td>\n",
       "      <td>deg_C</td>\n",
       "      <td>NaN</td>\n",
       "    </tr>\n",
       "    <tr>\n",
       "      <th>30</th>\n",
       "      <td>Db1t</td>\n",
       "      <td>Generator_bearing_1_temperature</td>\n",
       "      <td>deg_C</td>\n",
       "      <td>NaN</td>\n",
       "    </tr>\n",
       "    <tr>\n",
       "      <th>31</th>\n",
       "      <td>Gb1t</td>\n",
       "      <td>Gearbox_bearing_1_temperature</td>\n",
       "      <td>deg_C</td>\n",
       "      <td>NaN</td>\n",
       "    </tr>\n",
       "    <tr>\n",
       "      <th>32</th>\n",
       "      <td>Rbt</td>\n",
       "      <td>Rotor_bearing_temperature</td>\n",
       "      <td>deg_C</td>\n",
       "      <td>NaN</td>\n",
       "    </tr>\n",
       "    <tr>\n",
       "      <th>33</th>\n",
       "      <td>Pas</td>\n",
       "      <td>Pitch_angle_setpoint</td>\n",
       "      <td>NaN</td>\n",
       "      <td>NaN</td>\n",
       "    </tr>\n",
       "  </tbody>\n",
       "</table>\n",
       "</div>"
      ],
      "text/plain": [
       "   Variable_name                 Variable_long_name Unit_long_name  \\\n",
       "0            Va2                    Vane_position_2            deg   \n",
       "1            Ws2                       Wind_speed_2            m/s   \n",
       "2             Ws                         Wind_speed            m/s   \n",
       "3           Wa_c  Absolute_wind_direction_corrected            deg   \n",
       "4           Na_c            Nacelle_angle_corrected            deg   \n",
       "5             Ot                Outdoor_temperature          deg_C   \n",
       "6             Yt                Nacelle_temperature          deg_C   \n",
       "7             Nf                     Grid_frequency             Hz   \n",
       "8             Nu                       Grid_voltage              V   \n",
       "9             Rm                             Torque             Nm   \n",
       "10           Dst       Generator_stator_temperature          deg_C   \n",
       "11           Git          Gearbox_inlet_temperature          deg_C   \n",
       "12             Q                     Reactive_power           kVAr   \n",
       "13          Gb2t      Gearbox_bearing_2_temperature          deg_C   \n",
       "14          Gost       Gearbox_oil_sump_temperature          deg_C   \n",
       "15           DCs          Generator_converter_speed            rpm   \n",
       "16            Wa            Absolute_wind_direction            deg   \n",
       "17            Ds                    Generator_speed            rpm   \n",
       "18            Cm                   Converter_torque             Nm   \n",
       "19            Va                      Vane_position            deg   \n",
       "20            Ya                      Nacelle_angle            deg   \n",
       "21            Rs                        Rotor_speed            rpm   \n",
       "22             S                     Apparent_power            kVA   \n",
       "23        Cosphi                       Power_factor            NaN   \n",
       "24            Rt                    Hub_temperature          deg_C   \n",
       "25            Ba                        Pitch_angle            deg   \n",
       "26             P                       Active_power             kW   \n",
       "27           Va1                    Vane_position_1            deg   \n",
       "28           Ws1                       Wind_speed_1            m/s   \n",
       "29          Db2t    Generator_bearing_2_temperature          deg_C   \n",
       "30          Db1t    Generator_bearing_1_temperature          deg_C   \n",
       "31          Gb1t      Gearbox_bearing_1_temperature          deg_C   \n",
       "32           Rbt          Rotor_bearing_temperature          deg_C   \n",
       "33           Pas               Pitch_angle_setpoint            NaN   \n",
       "\n",
       "                                              Comment  \n",
       "0                     Second wind vane on the nacelle  \n",
       "1                    Second anemometer on the nacelle  \n",
       "2                                  Average wind speed  \n",
       "3                                                 NaN  \n",
       "4                                                 NaN  \n",
       "5                                                 NaN  \n",
       "6                                                 NaN  \n",
       "7                                                 NaN  \n",
       "8                                                 NaN  \n",
       "9                                                 NaN  \n",
       "10                                                NaN  \n",
       "11                                                NaN  \n",
       "12                                                NaN  \n",
       "13                                                NaN  \n",
       "14                                                NaN  \n",
       "15                                                NaN  \n",
       "16                                                NaN  \n",
       "17                                                NaN  \n",
       "18                                                NaN  \n",
       "19                                                NaN  \n",
       "20                                                NaN  \n",
       "21                                                NaN  \n",
       "22  Should be the square root of the sum of P squa...  \n",
       "23                                   Should equal P/S  \n",
       "24                                                NaN  \n",
       "25                                                NaN  \n",
       "26                                                NaN  \n",
       "27                     First wind vane on the nacelle  \n",
       "28                    First anemometer on the nacelle  \n",
       "29                                                NaN  \n",
       "30                                                NaN  \n",
       "31                                                NaN  \n",
       "32                                                NaN  \n",
       "33                                                NaN  "
      ]
     },
     "execution_count": 5,
     "metadata": {},
     "output_type": "execute_result"
    }
   ],
   "source": [
    "descript"
   ]
  },
  {
   "cell_type": "code",
   "execution_count": 6,
   "metadata": {},
   "outputs": [],
   "source": [
    "# data = pd.read_csv('wind-data.csv', sep=';', parse_dates=['Date_time'])\n",
    "data = pd.read_csv('wind-data-truncated.csv', parse_dates=['Date_time'])"
   ]
  },
  {
   "cell_type": "code",
   "execution_count": 7,
   "metadata": {},
   "outputs": [
    {
     "data": {
      "text/html": [
       "<div>\n",
       "<style scoped>\n",
       "    .dataframe tbody tr th:only-of-type {\n",
       "        vertical-align: middle;\n",
       "    }\n",
       "\n",
       "    .dataframe tbody tr th {\n",
       "        vertical-align: top;\n",
       "    }\n",
       "\n",
       "    .dataframe thead th {\n",
       "        text-align: right;\n",
       "    }\n",
       "</style>\n",
       "<table border=\"1\" class=\"dataframe\">\n",
       "  <thead>\n",
       "    <tr style=\"text-align: right;\">\n",
       "      <th></th>\n",
       "      <th>Unnamed: 0</th>\n",
       "      <th>Wind_turbine_name</th>\n",
       "      <th>Date_time</th>\n",
       "      <th>Ba_avg</th>\n",
       "      <th>Ba_min</th>\n",
       "      <th>Ba_max</th>\n",
       "      <th>Ba_std</th>\n",
       "      <th>Rt_avg</th>\n",
       "      <th>Rt_min</th>\n",
       "      <th>Rt_max</th>\n",
       "      <th>...</th>\n",
       "      <th>Pas_max</th>\n",
       "      <th>Pas_std</th>\n",
       "      <th>Wa_c_avg</th>\n",
       "      <th>Wa_c_min</th>\n",
       "      <th>Wa_c_max</th>\n",
       "      <th>Wa_c_std</th>\n",
       "      <th>Na_c_avg</th>\n",
       "      <th>Na_c_min</th>\n",
       "      <th>Na_c_max</th>\n",
       "      <th>Na_c_std</th>\n",
       "    </tr>\n",
       "  </thead>\n",
       "  <tbody>\n",
       "    <tr>\n",
       "      <th>0</th>\n",
       "      <td>804808</td>\n",
       "      <td>R80711</td>\n",
       "      <td>2013-04-06 14:20:00</td>\n",
       "      <td>-0.940000</td>\n",
       "      <td>-0.950000</td>\n",
       "      <td>-0.940000</td>\n",
       "      <td>0.0</td>\n",
       "      <td>10.59</td>\n",
       "      <td>10.000000</td>\n",
       "      <td>11.0</td>\n",
       "      <td>...</td>\n",
       "      <td>NaN</td>\n",
       "      <td>NaN</td>\n",
       "      <td>358.870000</td>\n",
       "      <td>NaN</td>\n",
       "      <td>NaN</td>\n",
       "      <td>NaN</td>\n",
       "      <td>351.670010</td>\n",
       "      <td>NaN</td>\n",
       "      <td>NaN</td>\n",
       "      <td>NaN</td>\n",
       "    </tr>\n",
       "    <tr>\n",
       "      <th>1</th>\n",
       "      <td>732424</td>\n",
       "      <td>R80711</td>\n",
       "      <td>2015-12-22 14:30:00</td>\n",
       "      <td>-0.990000</td>\n",
       "      <td>-0.990000</td>\n",
       "      <td>-0.990000</td>\n",
       "      <td>0.0</td>\n",
       "      <td>17.00</td>\n",
       "      <td>17.000000</td>\n",
       "      <td>17.0</td>\n",
       "      <td>...</td>\n",
       "      <td>NaN</td>\n",
       "      <td>NaN</td>\n",
       "      <td>NaN</td>\n",
       "      <td>NaN</td>\n",
       "      <td>NaN</td>\n",
       "      <td>NaN</td>\n",
       "      <td>NaN</td>\n",
       "      <td>NaN</td>\n",
       "      <td>NaN</td>\n",
       "      <td>NaN</td>\n",
       "    </tr>\n",
       "    <tr>\n",
       "      <th>2</th>\n",
       "      <td>312987</td>\n",
       "      <td>R80711</td>\n",
       "      <td>2016-03-20 20:40:00</td>\n",
       "      <td>-0.990000</td>\n",
       "      <td>-0.990000</td>\n",
       "      <td>-0.990000</td>\n",
       "      <td>0.0</td>\n",
       "      <td>12.88</td>\n",
       "      <td>12.000000</td>\n",
       "      <td>13.0</td>\n",
       "      <td>...</td>\n",
       "      <td>NaN</td>\n",
       "      <td>NaN</td>\n",
       "      <td>44.849998</td>\n",
       "      <td>NaN</td>\n",
       "      <td>NaN</td>\n",
       "      <td>NaN</td>\n",
       "      <td>44.849998</td>\n",
       "      <td>NaN</td>\n",
       "      <td>NaN</td>\n",
       "      <td>NaN</td>\n",
       "    </tr>\n",
       "    <tr>\n",
       "      <th>3</th>\n",
       "      <td>68152</td>\n",
       "      <td>R80711</td>\n",
       "      <td>2016-01-09 01:00:00</td>\n",
       "      <td>45.000000</td>\n",
       "      <td>45.000000</td>\n",
       "      <td>45.000000</td>\n",
       "      <td>0.0</td>\n",
       "      <td>12.95</td>\n",
       "      <td>12.000000</td>\n",
       "      <td>13.0</td>\n",
       "      <td>...</td>\n",
       "      <td>NaN</td>\n",
       "      <td>NaN</td>\n",
       "      <td>243.020000</td>\n",
       "      <td>NaN</td>\n",
       "      <td>NaN</td>\n",
       "      <td>NaN</td>\n",
       "      <td>243.020000</td>\n",
       "      <td>NaN</td>\n",
       "      <td>NaN</td>\n",
       "      <td>NaN</td>\n",
       "    </tr>\n",
       "    <tr>\n",
       "      <th>4</th>\n",
       "      <td>231878</td>\n",
       "      <td>R80721</td>\n",
       "      <td>2014-12-14 13:20:00</td>\n",
       "      <td>44.990002</td>\n",
       "      <td>44.990002</td>\n",
       "      <td>44.990002</td>\n",
       "      <td>0.0</td>\n",
       "      <td>16.99</td>\n",
       "      <td>16.110001</td>\n",
       "      <td>17.0</td>\n",
       "      <td>...</td>\n",
       "      <td>NaN</td>\n",
       "      <td>NaN</td>\n",
       "      <td>195.060000</td>\n",
       "      <td>NaN</td>\n",
       "      <td>NaN</td>\n",
       "      <td>NaN</td>\n",
       "      <td>308.239990</td>\n",
       "      <td>NaN</td>\n",
       "      <td>NaN</td>\n",
       "      <td>NaN</td>\n",
       "    </tr>\n",
       "  </tbody>\n",
       "</table>\n",
       "<p>5 rows × 139 columns</p>\n",
       "</div>"
      ],
      "text/plain": [
       "   Unnamed: 0 Wind_turbine_name           Date_time     Ba_avg     Ba_min  \\\n",
       "0      804808            R80711 2013-04-06 14:20:00  -0.940000  -0.950000   \n",
       "1      732424            R80711 2015-12-22 14:30:00  -0.990000  -0.990000   \n",
       "2      312987            R80711 2016-03-20 20:40:00  -0.990000  -0.990000   \n",
       "3       68152            R80711 2016-01-09 01:00:00  45.000000  45.000000   \n",
       "4      231878            R80721 2014-12-14 13:20:00  44.990002  44.990002   \n",
       "\n",
       "      Ba_max  Ba_std  Rt_avg     Rt_min  Rt_max  ...  Pas_max  Pas_std  \\\n",
       "0  -0.940000     0.0   10.59  10.000000    11.0  ...      NaN      NaN   \n",
       "1  -0.990000     0.0   17.00  17.000000    17.0  ...      NaN      NaN   \n",
       "2  -0.990000     0.0   12.88  12.000000    13.0  ...      NaN      NaN   \n",
       "3  45.000000     0.0   12.95  12.000000    13.0  ...      NaN      NaN   \n",
       "4  44.990002     0.0   16.99  16.110001    17.0  ...      NaN      NaN   \n",
       "\n",
       "     Wa_c_avg  Wa_c_min  Wa_c_max  Wa_c_std    Na_c_avg  Na_c_min  Na_c_max  \\\n",
       "0  358.870000       NaN       NaN       NaN  351.670010       NaN       NaN   \n",
       "1         NaN       NaN       NaN       NaN         NaN       NaN       NaN   \n",
       "2   44.849998       NaN       NaN       NaN   44.849998       NaN       NaN   \n",
       "3  243.020000       NaN       NaN       NaN  243.020000       NaN       NaN   \n",
       "4  195.060000       NaN       NaN       NaN  308.239990       NaN       NaN   \n",
       "\n",
       "   Na_c_std  \n",
       "0       NaN  \n",
       "1       NaN  \n",
       "2       NaN  \n",
       "3       NaN  \n",
       "4       NaN  \n",
       "\n",
       "[5 rows x 139 columns]"
      ]
     },
     "execution_count": 7,
     "metadata": {},
     "output_type": "execute_result"
    }
   ],
   "source": [
    "data.head()"
   ]
  },
  {
   "cell_type": "markdown",
   "metadata": {},
   "source": [
    "## Investigate the data"
   ]
  },
  {
   "cell_type": "markdown",
   "metadata": {},
   "source": [
    "Sample from the dataset."
   ]
  },
  {
   "cell_type": "code",
   "execution_count": 8,
   "metadata": {},
   "outputs": [],
   "source": [
    "df = data.sample(2000) # random sample"
   ]
  },
  {
   "cell_type": "code",
   "execution_count": 9,
   "metadata": {},
   "outputs": [
    {
     "data": {
      "text/plain": [
       "Int64Index([23050, 13693, 17366, 14488, 11531, 19986, 16553,  6445, 18774,\n",
       "            16470,\n",
       "            ...\n",
       "            22016, 23580, 10421, 19085, 24580, 22449, 23657,  3163,  9577,\n",
       "            19734],\n",
       "           dtype='int64', length=2000)"
      ]
     },
     "execution_count": 9,
     "metadata": {},
     "output_type": "execute_result"
    }
   ],
   "source": [
    "df.index"
   ]
  },
  {
   "cell_type": "code",
   "execution_count": 10,
   "metadata": {},
   "outputs": [
    {
     "data": {
      "text/html": [
       "<div>\n",
       "<style scoped>\n",
       "    .dataframe tbody tr th:only-of-type {\n",
       "        vertical-align: middle;\n",
       "    }\n",
       "\n",
       "    .dataframe tbody tr th {\n",
       "        vertical-align: top;\n",
       "    }\n",
       "\n",
       "    .dataframe thead th {\n",
       "        text-align: right;\n",
       "    }\n",
       "</style>\n",
       "<table border=\"1\" class=\"dataframe\">\n",
       "  <thead>\n",
       "    <tr style=\"text-align: right;\">\n",
       "      <th></th>\n",
       "      <th>Unnamed: 0</th>\n",
       "      <th>Wind_turbine_name</th>\n",
       "      <th>Date_time</th>\n",
       "      <th>Ba_avg</th>\n",
       "      <th>Ba_min</th>\n",
       "      <th>Ba_max</th>\n",
       "      <th>Ba_std</th>\n",
       "      <th>Rt_avg</th>\n",
       "      <th>Rt_min</th>\n",
       "      <th>Rt_max</th>\n",
       "      <th>...</th>\n",
       "      <th>Pas_max</th>\n",
       "      <th>Pas_std</th>\n",
       "      <th>Wa_c_avg</th>\n",
       "      <th>Wa_c_min</th>\n",
       "      <th>Wa_c_max</th>\n",
       "      <th>Wa_c_std</th>\n",
       "      <th>Na_c_avg</th>\n",
       "      <th>Na_c_min</th>\n",
       "      <th>Na_c_max</th>\n",
       "      <th>Na_c_std</th>\n",
       "    </tr>\n",
       "  </thead>\n",
       "  <tbody>\n",
       "    <tr>\n",
       "      <th>23050</th>\n",
       "      <td>238716</td>\n",
       "      <td>R80721</td>\n",
       "      <td>2015-05-23 20:50:00</td>\n",
       "      <td>-1.00</td>\n",
       "      <td>-1.00</td>\n",
       "      <td>-1.00</td>\n",
       "      <td>0.00</td>\n",
       "      <td>24.00</td>\n",
       "      <td>23.92</td>\n",
       "      <td>24.000000</td>\n",
       "      <td>...</td>\n",
       "      <td>NaN</td>\n",
       "      <td>NaN</td>\n",
       "      <td>2.970000</td>\n",
       "      <td>NaN</td>\n",
       "      <td>NaN</td>\n",
       "      <td>NaN</td>\n",
       "      <td>2.970000</td>\n",
       "      <td>NaN</td>\n",
       "      <td>NaN</td>\n",
       "      <td>NaN</td>\n",
       "    </tr>\n",
       "    <tr>\n",
       "      <th>13693</th>\n",
       "      <td>551728</td>\n",
       "      <td>R80721</td>\n",
       "      <td>2013-07-20 07:00:00</td>\n",
       "      <td>-0.87</td>\n",
       "      <td>-1.01</td>\n",
       "      <td>-0.01</td>\n",
       "      <td>0.29</td>\n",
       "      <td>29.00</td>\n",
       "      <td>29.00</td>\n",
       "      <td>29.000000</td>\n",
       "      <td>...</td>\n",
       "      <td>NaN</td>\n",
       "      <td>NaN</td>\n",
       "      <td>32.389999</td>\n",
       "      <td>NaN</td>\n",
       "      <td>NaN</td>\n",
       "      <td>NaN</td>\n",
       "      <td>53.599998</td>\n",
       "      <td>NaN</td>\n",
       "      <td>NaN</td>\n",
       "      <td>NaN</td>\n",
       "    </tr>\n",
       "    <tr>\n",
       "      <th>17366</th>\n",
       "      <td>439066</td>\n",
       "      <td>R80736</td>\n",
       "      <td>2014-05-22 21:10:00</td>\n",
       "      <td>-0.99</td>\n",
       "      <td>-0.99</td>\n",
       "      <td>-0.99</td>\n",
       "      <td>0.00</td>\n",
       "      <td>22.00</td>\n",
       "      <td>22.00</td>\n",
       "      <td>22.299999</td>\n",
       "      <td>...</td>\n",
       "      <td>NaN</td>\n",
       "      <td>NaN</td>\n",
       "      <td>157.130000</td>\n",
       "      <td>NaN</td>\n",
       "      <td>NaN</td>\n",
       "      <td>NaN</td>\n",
       "      <td>150.610000</td>\n",
       "      <td>NaN</td>\n",
       "      <td>NaN</td>\n",
       "      <td>NaN</td>\n",
       "    </tr>\n",
       "    <tr>\n",
       "      <th>14488</th>\n",
       "      <td>311692</td>\n",
       "      <td>R80721</td>\n",
       "      <td>2013-07-07 16:50:00</td>\n",
       "      <td>-1.01</td>\n",
       "      <td>-1.01</td>\n",
       "      <td>-1.01</td>\n",
       "      <td>0.00</td>\n",
       "      <td>30.25</td>\n",
       "      <td>30.00</td>\n",
       "      <td>31.000000</td>\n",
       "      <td>...</td>\n",
       "      <td>NaN</td>\n",
       "      <td>NaN</td>\n",
       "      <td>13.110000</td>\n",
       "      <td>NaN</td>\n",
       "      <td>NaN</td>\n",
       "      <td>NaN</td>\n",
       "      <td>8.600000</td>\n",
       "      <td>NaN</td>\n",
       "      <td>NaN</td>\n",
       "      <td>NaN</td>\n",
       "    </tr>\n",
       "    <tr>\n",
       "      <th>11531</th>\n",
       "      <td>618740</td>\n",
       "      <td>R80721</td>\n",
       "      <td>2014-02-27 02:40:00</td>\n",
       "      <td>-1.01</td>\n",
       "      <td>-1.01</td>\n",
       "      <td>-1.01</td>\n",
       "      <td>0.00</td>\n",
       "      <td>15.92</td>\n",
       "      <td>15.00</td>\n",
       "      <td>16.000000</td>\n",
       "      <td>...</td>\n",
       "      <td>NaN</td>\n",
       "      <td>NaN</td>\n",
       "      <td>205.310000</td>\n",
       "      <td>NaN</td>\n",
       "      <td>NaN</td>\n",
       "      <td>NaN</td>\n",
       "      <td>211.649990</td>\n",
       "      <td>NaN</td>\n",
       "      <td>NaN</td>\n",
       "      <td>NaN</td>\n",
       "    </tr>\n",
       "  </tbody>\n",
       "</table>\n",
       "<p>5 rows × 139 columns</p>\n",
       "</div>"
      ],
      "text/plain": [
       "       Unnamed: 0 Wind_turbine_name           Date_time  Ba_avg  Ba_min  \\\n",
       "23050      238716            R80721 2015-05-23 20:50:00   -1.00   -1.00   \n",
       "13693      551728            R80721 2013-07-20 07:00:00   -0.87   -1.01   \n",
       "17366      439066            R80736 2014-05-22 21:10:00   -0.99   -0.99   \n",
       "14488      311692            R80721 2013-07-07 16:50:00   -1.01   -1.01   \n",
       "11531      618740            R80721 2014-02-27 02:40:00   -1.01   -1.01   \n",
       "\n",
       "       Ba_max  Ba_std  Rt_avg  Rt_min     Rt_max  ...  Pas_max  Pas_std  \\\n",
       "23050   -1.00    0.00   24.00   23.92  24.000000  ...      NaN      NaN   \n",
       "13693   -0.01    0.29   29.00   29.00  29.000000  ...      NaN      NaN   \n",
       "17366   -0.99    0.00   22.00   22.00  22.299999  ...      NaN      NaN   \n",
       "14488   -1.01    0.00   30.25   30.00  31.000000  ...      NaN      NaN   \n",
       "11531   -1.01    0.00   15.92   15.00  16.000000  ...      NaN      NaN   \n",
       "\n",
       "         Wa_c_avg  Wa_c_min  Wa_c_max  Wa_c_std    Na_c_avg  Na_c_min  \\\n",
       "23050    2.970000       NaN       NaN       NaN    2.970000       NaN   \n",
       "13693   32.389999       NaN       NaN       NaN   53.599998       NaN   \n",
       "17366  157.130000       NaN       NaN       NaN  150.610000       NaN   \n",
       "14488   13.110000       NaN       NaN       NaN    8.600000       NaN   \n",
       "11531  205.310000       NaN       NaN       NaN  211.649990       NaN   \n",
       "\n",
       "       Na_c_max  Na_c_std  \n",
       "23050       NaN       NaN  \n",
       "13693       NaN       NaN  \n",
       "17366       NaN       NaN  \n",
       "14488       NaN       NaN  \n",
       "11531       NaN       NaN  \n",
       "\n",
       "[5 rows x 139 columns]"
      ]
     },
     "execution_count": 10,
     "metadata": {},
     "output_type": "execute_result"
    }
   ],
   "source": [
    "df.head()"
   ]
  },
  {
   "cell_type": "code",
   "execution_count": 11,
   "metadata": {
    "scrolled": true
   },
   "outputs": [
    {
     "data": {
      "text/html": [
       "<div>\n",
       "<style scoped>\n",
       "    .dataframe tbody tr th:only-of-type {\n",
       "        vertical-align: middle;\n",
       "    }\n",
       "\n",
       "    .dataframe tbody tr th {\n",
       "        vertical-align: top;\n",
       "    }\n",
       "\n",
       "    .dataframe thead th {\n",
       "        text-align: right;\n",
       "    }\n",
       "</style>\n",
       "<table border=\"1\" class=\"dataframe\">\n",
       "  <thead>\n",
       "    <tr style=\"text-align: right;\">\n",
       "      <th></th>\n",
       "      <th>Unnamed: 0</th>\n",
       "      <th>Ba_avg</th>\n",
       "      <th>Ba_min</th>\n",
       "      <th>Ba_max</th>\n",
       "      <th>Ba_std</th>\n",
       "      <th>Rt_avg</th>\n",
       "      <th>Rt_min</th>\n",
       "      <th>Rt_max</th>\n",
       "      <th>Rt_std</th>\n",
       "      <th>DCs_avg</th>\n",
       "      <th>...</th>\n",
       "      <th>Pas_max</th>\n",
       "      <th>Pas_std</th>\n",
       "      <th>Wa_c_avg</th>\n",
       "      <th>Wa_c_min</th>\n",
       "      <th>Wa_c_max</th>\n",
       "      <th>Wa_c_std</th>\n",
       "      <th>Na_c_avg</th>\n",
       "      <th>Na_c_min</th>\n",
       "      <th>Na_c_max</th>\n",
       "      <th>Na_c_std</th>\n",
       "    </tr>\n",
       "  </thead>\n",
       "  <tbody>\n",
       "    <tr>\n",
       "      <th>count</th>\n",
       "      <td>2000.000000</td>\n",
       "      <td>1992.000000</td>\n",
       "      <td>1992.000000</td>\n",
       "      <td>1992.000000</td>\n",
       "      <td>1992.000000</td>\n",
       "      <td>1992.000000</td>\n",
       "      <td>1992.000000</td>\n",
       "      <td>1992.000000</td>\n",
       "      <td>1992.000000</td>\n",
       "      <td>1992.000000</td>\n",
       "      <td>...</td>\n",
       "      <td>0.0</td>\n",
       "      <td>0.0</td>\n",
       "      <td>1936.000000</td>\n",
       "      <td>0.0</td>\n",
       "      <td>0.0</td>\n",
       "      <td>0.0</td>\n",
       "      <td>1936.000000</td>\n",
       "      <td>0.0</td>\n",
       "      <td>0.0</td>\n",
       "      <td>0.0</td>\n",
       "    </tr>\n",
       "    <tr>\n",
       "      <th>mean</th>\n",
       "      <td>419817.465500</td>\n",
       "      <td>13.361340</td>\n",
       "      <td>12.370301</td>\n",
       "      <td>14.911305</td>\n",
       "      <td>0.825497</td>\n",
       "      <td>19.287224</td>\n",
       "      <td>19.089478</td>\n",
       "      <td>19.508740</td>\n",
       "      <td>0.105110</td>\n",
       "      <td>1063.693975</td>\n",
       "      <td>...</td>\n",
       "      <td>NaN</td>\n",
       "      <td>NaN</td>\n",
       "      <td>178.529850</td>\n",
       "      <td>NaN</td>\n",
       "      <td>NaN</td>\n",
       "      <td>NaN</td>\n",
       "      <td>179.017510</td>\n",
       "      <td>NaN</td>\n",
       "      <td>NaN</td>\n",
       "      <td>NaN</td>\n",
       "    </tr>\n",
       "    <tr>\n",
       "      <th>std</th>\n",
       "      <td>244189.126694</td>\n",
       "      <td>27.706999</td>\n",
       "      <td>27.524637</td>\n",
       "      <td>28.305962</td>\n",
       "      <td>3.675070</td>\n",
       "      <td>6.219490</td>\n",
       "      <td>6.232865</td>\n",
       "      <td>6.218328</td>\n",
       "      <td>0.154868</td>\n",
       "      <td>621.296774</td>\n",
       "      <td>...</td>\n",
       "      <td>NaN</td>\n",
       "      <td>NaN</td>\n",
       "      <td>96.459374</td>\n",
       "      <td>NaN</td>\n",
       "      <td>NaN</td>\n",
       "      <td>NaN</td>\n",
       "      <td>96.582995</td>\n",
       "      <td>NaN</td>\n",
       "      <td>NaN</td>\n",
       "      <td>NaN</td>\n",
       "    </tr>\n",
       "    <tr>\n",
       "      <th>min</th>\n",
       "      <td>74.000000</td>\n",
       "      <td>-1.030000</td>\n",
       "      <td>-1.080000</td>\n",
       "      <td>-1.020000</td>\n",
       "      <td>0.000000</td>\n",
       "      <td>5.010000</td>\n",
       "      <td>5.000000</td>\n",
       "      <td>5.760000</td>\n",
       "      <td>0.000000</td>\n",
       "      <td>-574.789980</td>\n",
       "      <td>...</td>\n",
       "      <td>NaN</td>\n",
       "      <td>NaN</td>\n",
       "      <td>0.480000</td>\n",
       "      <td>NaN</td>\n",
       "      <td>NaN</td>\n",
       "      <td>NaN</td>\n",
       "      <td>0.920000</td>\n",
       "      <td>NaN</td>\n",
       "      <td>NaN</td>\n",
       "      <td>NaN</td>\n",
       "    </tr>\n",
       "    <tr>\n",
       "      <th>25%</th>\n",
       "      <td>205735.500000</td>\n",
       "      <td>-0.990000</td>\n",
       "      <td>-1.000000</td>\n",
       "      <td>-0.990000</td>\n",
       "      <td>0.000000</td>\n",
       "      <td>14.010000</td>\n",
       "      <td>14.000000</td>\n",
       "      <td>14.865000</td>\n",
       "      <td>0.000000</td>\n",
       "      <td>964.137507</td>\n",
       "      <td>...</td>\n",
       "      <td>NaN</td>\n",
       "      <td>NaN</td>\n",
       "      <td>81.500002</td>\n",
       "      <td>NaN</td>\n",
       "      <td>NaN</td>\n",
       "      <td>NaN</td>\n",
       "      <td>81.400002</td>\n",
       "      <td>NaN</td>\n",
       "      <td>NaN</td>\n",
       "      <td>NaN</td>\n",
       "    </tr>\n",
       "    <tr>\n",
       "      <th>50%</th>\n",
       "      <td>421141.000000</td>\n",
       "      <td>-0.970000</td>\n",
       "      <td>-0.990000</td>\n",
       "      <td>-0.520000</td>\n",
       "      <td>0.000000</td>\n",
       "      <td>19.000000</td>\n",
       "      <td>19.000000</td>\n",
       "      <td>19.000000</td>\n",
       "      <td>0.000000</td>\n",
       "      <td>1189.170000</td>\n",
       "      <td>...</td>\n",
       "      <td>NaN</td>\n",
       "      <td>NaN</td>\n",
       "      <td>197.474995</td>\n",
       "      <td>NaN</td>\n",
       "      <td>NaN</td>\n",
       "      <td>NaN</td>\n",
       "      <td>199.730005</td>\n",
       "      <td>NaN</td>\n",
       "      <td>NaN</td>\n",
       "      <td>NaN</td>\n",
       "    </tr>\n",
       "    <tr>\n",
       "      <th>75%</th>\n",
       "      <td>632898.250000</td>\n",
       "      <td>3.832500</td>\n",
       "      <td>-0.500000</td>\n",
       "      <td>19.100000</td>\n",
       "      <td>0.140000</td>\n",
       "      <td>24.000000</td>\n",
       "      <td>24.000000</td>\n",
       "      <td>24.000000</td>\n",
       "      <td>0.200000</td>\n",
       "      <td>1569.227500</td>\n",
       "      <td>...</td>\n",
       "      <td>NaN</td>\n",
       "      <td>NaN</td>\n",
       "      <td>248.307492</td>\n",
       "      <td>NaN</td>\n",
       "      <td>NaN</td>\n",
       "      <td>NaN</td>\n",
       "      <td>248.319992</td>\n",
       "      <td>NaN</td>\n",
       "      <td>NaN</td>\n",
       "      <td>NaN</td>\n",
       "    </tr>\n",
       "    <tr>\n",
       "      <th>max</th>\n",
       "      <td>838758.000000</td>\n",
       "      <td>92.620003</td>\n",
       "      <td>92.620003</td>\n",
       "      <td>92.720001</td>\n",
       "      <td>40.730000</td>\n",
       "      <td>38.000000</td>\n",
       "      <td>38.000000</td>\n",
       "      <td>38.000000</td>\n",
       "      <td>0.530000</td>\n",
       "      <td>1804.880000</td>\n",
       "      <td>...</td>\n",
       "      <td>NaN</td>\n",
       "      <td>NaN</td>\n",
       "      <td>359.870000</td>\n",
       "      <td>NaN</td>\n",
       "      <td>NaN</td>\n",
       "      <td>NaN</td>\n",
       "      <td>358.980010</td>\n",
       "      <td>NaN</td>\n",
       "      <td>NaN</td>\n",
       "      <td>NaN</td>\n",
       "    </tr>\n",
       "  </tbody>\n",
       "</table>\n",
       "<p>8 rows × 137 columns</p>\n",
       "</div>"
      ],
      "text/plain": [
       "          Unnamed: 0       Ba_avg       Ba_min       Ba_max       Ba_std  \\\n",
       "count    2000.000000  1992.000000  1992.000000  1992.000000  1992.000000   \n",
       "mean   419817.465500    13.361340    12.370301    14.911305     0.825497   \n",
       "std    244189.126694    27.706999    27.524637    28.305962     3.675070   \n",
       "min        74.000000    -1.030000    -1.080000    -1.020000     0.000000   \n",
       "25%    205735.500000    -0.990000    -1.000000    -0.990000     0.000000   \n",
       "50%    421141.000000    -0.970000    -0.990000    -0.520000     0.000000   \n",
       "75%    632898.250000     3.832500    -0.500000    19.100000     0.140000   \n",
       "max    838758.000000    92.620003    92.620003    92.720001    40.730000   \n",
       "\n",
       "            Rt_avg       Rt_min       Rt_max       Rt_std      DCs_avg  ...  \\\n",
       "count  1992.000000  1992.000000  1992.000000  1992.000000  1992.000000  ...   \n",
       "mean     19.287224    19.089478    19.508740     0.105110  1063.693975  ...   \n",
       "std       6.219490     6.232865     6.218328     0.154868   621.296774  ...   \n",
       "min       5.010000     5.000000     5.760000     0.000000  -574.789980  ...   \n",
       "25%      14.010000    14.000000    14.865000     0.000000   964.137507  ...   \n",
       "50%      19.000000    19.000000    19.000000     0.000000  1189.170000  ...   \n",
       "75%      24.000000    24.000000    24.000000     0.200000  1569.227500  ...   \n",
       "max      38.000000    38.000000    38.000000     0.530000  1804.880000  ...   \n",
       "\n",
       "       Pas_max  Pas_std     Wa_c_avg  Wa_c_min  Wa_c_max  Wa_c_std  \\\n",
       "count      0.0      0.0  1936.000000       0.0       0.0       0.0   \n",
       "mean       NaN      NaN   178.529850       NaN       NaN       NaN   \n",
       "std        NaN      NaN    96.459374       NaN       NaN       NaN   \n",
       "min        NaN      NaN     0.480000       NaN       NaN       NaN   \n",
       "25%        NaN      NaN    81.500002       NaN       NaN       NaN   \n",
       "50%        NaN      NaN   197.474995       NaN       NaN       NaN   \n",
       "75%        NaN      NaN   248.307492       NaN       NaN       NaN   \n",
       "max        NaN      NaN   359.870000       NaN       NaN       NaN   \n",
       "\n",
       "          Na_c_avg  Na_c_min  Na_c_max  Na_c_std  \n",
       "count  1936.000000       0.0       0.0       0.0  \n",
       "mean    179.017510       NaN       NaN       NaN  \n",
       "std      96.582995       NaN       NaN       NaN  \n",
       "min       0.920000       NaN       NaN       NaN  \n",
       "25%      81.400002       NaN       NaN       NaN  \n",
       "50%     199.730005       NaN       NaN       NaN  \n",
       "75%     248.319992       NaN       NaN       NaN  \n",
       "max     358.980010       NaN       NaN       NaN  \n",
       "\n",
       "[8 rows x 137 columns]"
      ]
     },
     "execution_count": 11,
     "metadata": {},
     "output_type": "execute_result"
    }
   ],
   "source": [
    "df.describe()"
   ]
  },
  {
   "cell_type": "code",
   "execution_count": 12,
   "metadata": {},
   "outputs": [
    {
     "data": {
      "text/plain": [
       "Index(['Unnamed: 0', 'Wind_turbine_name', 'Date_time', 'Ba_avg', 'Ba_min',\n",
       "       'Ba_max', 'Ba_std', 'Rt_avg', 'Rt_min', 'Rt_max',\n",
       "       ...\n",
       "       'Pas_max', 'Pas_std', 'Wa_c_avg', 'Wa_c_min', 'Wa_c_max', 'Wa_c_std',\n",
       "       'Na_c_avg', 'Na_c_min', 'Na_c_max', 'Na_c_std'],\n",
       "      dtype='object', length=139)"
      ]
     },
     "execution_count": 12,
     "metadata": {},
     "output_type": "execute_result"
    }
   ],
   "source": [
    "df.columns"
   ]
  },
  {
   "cell_type": "markdown",
   "metadata": {},
   "source": [
    "## Preprocess the data"
   ]
  },
  {
   "cell_type": "markdown",
   "metadata": {},
   "source": [
    "### Clean the data"
   ]
  },
  {
   "cell_type": "markdown",
   "metadata": {},
   "source": [
    "Fill in missing values here."
   ]
  },
  {
   "cell_type": "code",
   "execution_count": 13,
   "metadata": {},
   "outputs": [],
   "source": [
    "df = df.fillna(0)"
   ]
  },
  {
   "cell_type": "markdown",
   "metadata": {},
   "source": [
    "### Feature engineering"
   ]
  },
  {
   "cell_type": "markdown",
   "metadata": {},
   "source": [
    "See the strength of relationships between features."
   ]
  },
  {
   "cell_type": "markdown",
   "metadata": {},
   "source": [
    "## Identify correlated variables"
   ]
  },
  {
   "cell_type": "markdown",
   "metadata": {},
   "source": [
    "Use the correlation between features to select features for training the model. We selected positively correlated features for training and prediction."
   ]
  },
  {
   "cell_type": "code",
   "execution_count": 14,
   "metadata": {},
   "outputs": [
    {
     "data": {
      "text/plain": [
       "<AxesSubplot:>"
      ]
     },
     "execution_count": 14,
     "metadata": {},
     "output_type": "execute_result"
    },
    {
     "data": {
      "image/png": "[encoded data removed]",
      "text/plain": [
       "<Figure size 2160x2160 with 2 Axes>"
      ]
     },
     "metadata": {
      "needs_background": "light"
     },
     "output_type": "display_data"
    }
   ],
   "source": [
    "#c = df.corr().abs()\n",
    "corr = df.corr()\n",
    "plt.figure(figsize=(30,30))\n",
    "sns.heatmap(corr, xticklabels=corr.columns.values, yticklabels=corr.columns.values)"
   ]
  },
  {
   "cell_type": "code",
   "execution_count": 29,
   "metadata": {},
   "outputs": [
    {
     "name": "stdout",
     "output_type": "stream",
     "text": [
      "       Unnamed: 0 Wind_turbine_name           Date_time  Ba_avg  Ba_min  \\\n",
      "23050      238716            R80721 2015-05-23 20:50:00   -1.00   -1.00   \n",
      "13693      551728            R80721 2013-07-20 07:00:00   -0.87   -1.01   \n",
      "17366      439066            R80736 2014-05-22 21:10:00   -0.99   -0.99   \n",
      "14488      311692            R80721 2013-07-07 16:50:00   -1.01   -1.01   \n",
      "11531      618740            R80721 2014-02-27 02:40:00   -1.01   -1.01   \n",
      "\n",
      "       Ba_max  Ba_std  Rt_avg  Rt_min     Rt_max  ...  Pas_max  Pas_std  \\\n",
      "23050   -1.00    0.00   24.00   23.92  24.000000  ...      0.0      0.0   \n",
      "13693   -0.01    0.29   29.00   29.00  29.000000  ...      0.0      0.0   \n",
      "17366   -0.99    0.00   22.00   22.00  22.299999  ...      0.0      0.0   \n",
      "14488   -1.01    0.00   30.25   30.00  31.000000  ...      0.0      0.0   \n",
      "11531   -1.01    0.00   15.92   15.00  16.000000  ...      0.0      0.0   \n",
      "\n",
      "         Wa_c_avg  Wa_c_min  Wa_c_max  Wa_c_std    Na_c_avg  Na_c_min  \\\n",
      "23050    2.970000       0.0       0.0       0.0    2.970000       0.0   \n",
      "13693   32.389999       0.0       0.0       0.0   53.599998       0.0   \n",
      "17366  157.130000       0.0       0.0       0.0  150.610000       0.0   \n",
      "14488   13.110000       0.0       0.0       0.0    8.600000       0.0   \n",
      "11531  205.310000       0.0       0.0       0.0  211.649990       0.0   \n",
      "\n",
      "       Na_c_max  Na_c_std  \n",
      "23050       0.0       0.0  \n",
      "13693       0.0       0.0  \n",
      "17366       0.0       0.0  \n",
      "14488       0.0       0.0  \n",
      "11531       0.0       0.0  \n",
      "\n",
      "[5 rows x 139 columns]\n"
     ]
    }
   ],
   "source": [
    "print (df.head())"
   ]
  },
  {
   "cell_type": "markdown",
   "metadata": {},
   "source": [
    "## What question(s) are we trying to answer?"
   ]
  },
  {
   "cell_type": "markdown",
   "metadata": {},
   "source": [
    "Can we predict the average power produced `P_avg` from\n",
    "\n",
    "    the average vane position Va2_avg\n",
    "    wind speed 2 in m/s Ws2_avg\n",
    "    the average wind speed Ws_avg\n",
    "    the average outdoor temperature Ot_avg\n",
    "    the average absolute wind direction Wa_avg?\n",
    "\n",
    "See this link for help with possible questions: \n",
    "Some questions to ask: [questions](https://github.com/jmwagstaff/La-Haute-Borne/blob/master/README.md)"
   ]
  },
  {
   "cell_type": "code",
   "execution_count": null,
   "metadata": {},
   "outputs": [],
   "source": []
  },
  {
   "cell_type": "markdown",
   "metadata": {},
   "source": [
    "## Create training and test sets"
   ]
  },
  {
   "cell_type": "markdown",
   "metadata": {},
   "source": [
    "It is an practice in machine learning is to split a dataset into training and test sets. The training set, which is usullay larger than the test set, is used to train the model. The test set is used to make predictions with the model."
   ]
  },
  {
   "cell_type": "code",
   "execution_count": 15,
   "metadata": {},
   "outputs": [
    {
     "name": "stderr",
     "output_type": "stream",
     "text": [
      "<ipython-input-15-430fa5e9c82e>:1: FutureWarning: DataFrame.mean and DataFrame.median with numeric_only=None will include datetime64 and datetime64tz columns in a future version.\n",
      "  df = df.fillna(df.median(axis=0))\n"
     ]
    }
   ],
   "source": [
    "df = df.fillna(df.median(axis=0))"
   ]
  },
  {
   "cell_type": "code",
   "execution_count": 16,
   "metadata": {},
   "outputs": [],
   "source": [
    "X = df[['Va2_avg','Ws2_avg', 'Ws_avg', 'Ot_avg', 'Wa_avg']].values\n",
    "Y = df['P_avg'].values"
   ]
  },
  {
   "cell_type": "markdown",
   "metadata": {},
   "source": [
    "Store the names of the selected attributes."
   ]
  },
  {
   "cell_type": "code",
   "execution_count": 17,
   "metadata": {},
   "outputs": [
    {
     "data": {
      "text/plain": [
       "['Va2_avg', 'Ws2_avg', 'Ws_avg', 'Ot_avg', 'Wa_avg']"
      ]
     },
     "execution_count": 17,
     "metadata": {},
     "output_type": "execute_result"
    }
   ],
   "source": [
    "labels = ['Va2_avg','Ws2_avg', 'Ws_avg', 'Ot_avg', 'Wa_avg']; labels"
   ]
  },
  {
   "cell_type": "markdown",
   "metadata": {},
   "source": [
    "Use the sklearn `train_test_split` function to split data in training and test set."
   ]
  },
  {
   "cell_type": "code",
   "execution_count": 18,
   "metadata": {},
   "outputs": [],
   "source": [
    "X_train, X_test, y_train, y_test = train_test_split(X, Y, test_size=0.25, random_state=42)"
   ]
  },
  {
   "cell_type": "markdown",
   "metadata": {
    "collapsed": true
   },
   "source": [
    "### Transform the data"
   ]
  },
  {
   "cell_type": "markdown",
   "metadata": {},
   "source": [
    "We centre the data around a mean of zero and variance of one."
   ]
  },
  {
   "cell_type": "code",
   "execution_count": 19,
   "metadata": {},
   "outputs": [],
   "source": [
    "scaler = StandardScaler()\n",
    "scaler.fit(X_train)\n",
    "X_train = scaler.transform(X_train)\n",
    "X_test = scaler.transform(X_test)"
   ]
  },
  {
   "cell_type": "markdown",
   "metadata": {
    "collapsed": true
   },
   "source": [
    "For more information on preprocessing data see [Preprocessing data](http://scikit-learn.org/stable/modules/preprocessing.html).\n",
    "\n",
    "[Imputation of missing values](http://scikit-learn.org/stable/modules/preprocessing.html#imputation-of-missing-values)"
   ]
  },
  {
   "cell_type": "markdown",
   "metadata": {},
   "source": [
    "## Fit the model"
   ]
  },
  {
   "cell_type": "markdown",
   "metadata": {},
   "source": [
    "Create the regressor model."
   ]
  },
  {
   "cell_type": "code",
   "execution_count": 20,
   "metadata": {},
   "outputs": [],
   "source": [
    "#model = RandomForestRegressor(n_jobs=-1, min_impurity_decrease=10)\n",
    "model = RandomForestRegressor(n_jobs=-1)"
   ]
  },
  {
   "cell_type": "markdown",
   "metadata": {},
   "source": [
    "Try a different number of estimators."
   ]
  },
  {
   "cell_type": "code",
   "execution_count": 21,
   "metadata": {},
   "outputs": [
    {
     "data": {
      "text/plain": [
       "[<matplotlib.lines.Line2D at 0x16375a7abe0>]"
      ]
     },
     "execution_count": 21,
     "metadata": {},
     "output_type": "execute_result"
    },
    {
     "data": {
      "image/png": "[encoded data removed]",
      "text/plain": [
       "<Figure size 432x288 with 1 Axes>"
      ]
     },
     "metadata": {
      "needs_background": "light"
     },
     "output_type": "display_data"
    }
   ],
   "source": [
    "# Try different numbers of n_estimators or trees - this will take a minute or so\n",
    "estimators = np.arange(1, 33, 10)\n",
    "scores = []\n",
    "for n in estimators:\n",
    "    model.set_params(n_estimators=n)\n",
    "    model.fit(X_train, y_train)\n",
    "    scores.append(model.score(X_test, y_test))\n",
    "plt.title(\"Effect of n_estimators\")\n",
    "plt.xlabel(\"n_estimator\")\n",
    "plt.ylabel(\"score\")\n",
    "plt.plot(estimators, scores)"
   ]
  },
  {
   "cell_type": "code",
   "execution_count": null,
   "metadata": {},
   "outputs": [],
   "source": []
  },
  {
   "cell_type": "markdown",
   "metadata": {},
   "source": [
    "## Predict"
   ]
  },
  {
   "cell_type": "markdown",
   "metadata": {},
   "source": [
    "Apply regressor to test set."
   ]
  },
  {
   "cell_type": "code",
   "execution_count": 22,
   "metadata": {},
   "outputs": [],
   "source": [
    "y_predicted = model.predict(X_test)"
   ]
  },
  {
   "cell_type": "code",
   "execution_count": 23,
   "metadata": {},
   "outputs": [
    {
     "data": {
      "text/plain": [
       "(500, 500)"
      ]
     },
     "execution_count": 23,
     "metadata": {},
     "output_type": "execute_result"
    }
   ],
   "source": [
    "len(y_predicted), len(y_test)"
   ]
  },
  {
   "cell_type": "markdown",
   "metadata": {},
   "source": [
    "## Feature importance"
   ]
  },
  {
   "cell_type": "markdown",
   "metadata": {
    "collapsed": true
   },
   "source": [
    "Which features are important for our predictions?"
   ]
  },
  {
   "cell_type": "code",
   "execution_count": 24,
   "metadata": {},
   "outputs": [
    {
     "data": {
      "text/html": [
       "<div>\n",
       "<style scoped>\n",
       "    .dataframe tbody tr th:only-of-type {\n",
       "        vertical-align: middle;\n",
       "    }\n",
       "\n",
       "    .dataframe tbody tr th {\n",
       "        vertical-align: top;\n",
       "    }\n",
       "\n",
       "    .dataframe thead th {\n",
       "        text-align: right;\n",
       "    }\n",
       "</style>\n",
       "<table border=\"1\" class=\"dataframe\">\n",
       "  <thead>\n",
       "    <tr style=\"text-align: right;\">\n",
       "      <th></th>\n",
       "      <th>feature</th>\n",
       "      <th>importance</th>\n",
       "    </tr>\n",
       "  </thead>\n",
       "  <tbody>\n",
       "    <tr>\n",
       "      <th>2</th>\n",
       "      <td>Ws_avg</td>\n",
       "      <td>0.801705</td>\n",
       "    </tr>\n",
       "    <tr>\n",
       "      <th>1</th>\n",
       "      <td>Ws2_avg</td>\n",
       "      <td>0.165676</td>\n",
       "    </tr>\n",
       "    <tr>\n",
       "      <th>4</th>\n",
       "      <td>Wa_avg</td>\n",
       "      <td>0.016612</td>\n",
       "    </tr>\n",
       "    <tr>\n",
       "      <th>3</th>\n",
       "      <td>Ot_avg</td>\n",
       "      <td>0.016007</td>\n",
       "    </tr>\n",
       "    <tr>\n",
       "      <th>0</th>\n",
       "      <td>Va2_avg</td>\n",
       "      <td>0.000000</td>\n",
       "    </tr>\n",
       "  </tbody>\n",
       "</table>\n",
       "</div>"
      ],
      "text/plain": [
       "   feature  importance\n",
       "2   Ws_avg    0.801705\n",
       "1  Ws2_avg    0.165676\n",
       "4   Wa_avg    0.016612\n",
       "3   Ot_avg    0.016007\n",
       "0  Va2_avg    0.000000"
      ]
     },
     "execution_count": 24,
     "metadata": {},
     "output_type": "execute_result"
    }
   ],
   "source": [
    "result = pd.DataFrame()\n",
    "result['feature'] = labels\n",
    "result['importance'] = model.feature_importances_\n",
    "result.sort_values(by=['importance'], ascending=False, inplace=True)\n",
    "result"
   ]
  },
  {
   "cell_type": "markdown",
   "metadata": {},
   "source": [
    "Turns out the wind speed `Ws_avg` is important in predicting average power output."
   ]
  },
  {
   "cell_type": "markdown",
   "metadata": {},
   "source": [
    "## Determine accuracy"
   ]
  },
  {
   "cell_type": "code",
   "execution_count": 25,
   "metadata": {},
   "outputs": [],
   "source": [
    "from sklearn.metrics import r2_score"
   ]
  },
  {
   "cell_type": "code",
   "execution_count": 26,
   "metadata": {},
   "outputs": [],
   "source": [
    "score = r2_score(y_test, y_predicted)"
   ]
  },
  {
   "cell_type": "code",
   "execution_count": 27,
   "metadata": {},
   "outputs": [
    {
     "data": {
      "text/plain": [
       "0.8077671452884867"
      ]
     },
     "execution_count": 27,
     "metadata": {},
     "output_type": "execute_result"
    }
   ],
   "source": [
    "score"
   ]
  },
  {
   "cell_type": "markdown",
   "metadata": {
    "collapsed": true
   },
   "source": [
    "**Interpretation**: We use the $R^2$ coefficient of determination to determine the accuracy of the model. The best possible score is 1.0 and it can be negative if the model is terrible at predictions. There are many measures one can use to determine the accuracy of a regression model. Two of the measures are:\n",
    "\n",
    "    1. mean squared error, and \n",
    "    2. mean absolute percentage error.\n",
    "    "
   ]
  },
  {
   "cell_type": "markdown",
   "metadata": {},
   "source": [
    "### XGBoost"
   ]
  },
  {
   "cell_type": "markdown",
   "metadata": {},
   "source": [
    "We touched on boosting in the module. Boosting is an ensemble technique that combines typically week predictors like decisions trees and builds a better model sequentially. Here we consider XGBoost designed to control overfitting.\n",
    "\n",
    "You may have to install xgboost with `conda install -c conda-forge xgboost` (under linux) or `conda install -c anaconda py-xgboost` under Windows. If you have trouble installing XGBoost, you can skip this section."
   ]
  },
  {
   "cell_type": "code",
   "execution_count": 28,
   "metadata": {},
   "outputs": [
    {
     "ename": "ModuleNotFoundError",
     "evalue": "No module named 'xgboost'",
     "output_type": "error",
     "traceback": [
      "\u001b[1;31m---------------------------------------------------------------------------\u001b[0m",
      "\u001b[1;31mModuleNotFoundError\u001b[0m                       Traceback (most recent call last)",
      "\u001b[1;32m<ipython-input-28-5943d1bfe3f1>\u001b[0m in \u001b[0;36m<module>\u001b[1;34m\u001b[0m\n\u001b[1;32m----> 1\u001b[1;33m \u001b[1;32mimport\u001b[0m \u001b[0mxgboost\u001b[0m \u001b[1;32mas\u001b[0m \u001b[0mxgb\u001b[0m\u001b[1;33m\u001b[0m\u001b[1;33m\u001b[0m\u001b[0m\n\u001b[0m",
      "\u001b[1;31mModuleNotFoundError\u001b[0m: No module named 'xgboost'"
     ]
    }
   ],
   "source": [
    "import xgboost as xgb"
   ]
  },
  {
   "cell_type": "markdown",
   "metadata": {},
   "source": [
    "### Train the model"
   ]
  },
  {
   "cell_type": "code",
   "execution_count": null,
   "metadata": {},
   "outputs": [],
   "source": [
    "model = xgb.XGBRegressor()"
   ]
  },
  {
   "cell_type": "code",
   "execution_count": null,
   "metadata": {},
   "outputs": [],
   "source": [
    "model.fit(X_train, y_train)"
   ]
  },
  {
   "cell_type": "markdown",
   "metadata": {},
   "source": [
    "### Make predictions"
   ]
  },
  {
   "cell_type": "code",
   "execution_count": null,
   "metadata": {},
   "outputs": [],
   "source": [
    "y_preds = model.predict(X_test)"
   ]
  },
  {
   "cell_type": "code",
   "execution_count": null,
   "metadata": {},
   "outputs": [],
   "source": [
    "predictions = [round(i) for i in y_preds]"
   ]
  },
  {
   "cell_type": "markdown",
   "metadata": {},
   "source": [
    "### Determine accuracy"
   ]
  },
  {
   "cell_type": "code",
   "execution_count": null,
   "metadata": {},
   "outputs": [],
   "source": [
    "from sklearn.metrics import explained_variance_score"
   ]
  },
  {
   "cell_type": "code",
   "execution_count": null,
   "metadata": {},
   "outputs": [],
   "source": [
    "print(explained_variance_score(predictions,y_test))"
   ]
  },
  {
   "cell_type": "markdown",
   "metadata": {},
   "source": [
    "### Cross Validate the model"
   ]
  },
  {
   "cell_type": "code",
   "execution_count": null,
   "metadata": {},
   "outputs": [],
   "source": [
    "from sklearn.model_selection import KFold\n",
    "from sklearn.model_selection import cross_val_score"
   ]
  },
  {
   "cell_type": "code",
   "execution_count": null,
   "metadata": {},
   "outputs": [],
   "source": [
    "kfold = KFold(n_splits=10, random_state=7)\n",
    "results = cross_val_score(model, X, Y, cv=kfold)\n",
    "print(\"Accuracy: \", results.mean())"
   ]
  },
  {
   "cell_type": "markdown",
   "metadata": {},
   "source": [
    "The accuracy changes from 90% with the Random Forest approach, 89% with XGBoost, and 93% with cross validation applied to the XGBoost model."
   ]
  },
  {
   "cell_type": "code",
   "execution_count": null,
   "metadata": {},
   "outputs": [],
   "source": []
  },
  {
   "cell_type": "markdown",
   "metadata": {},
   "source": [
    "## Summary"
   ]
  },
  {
   "cell_type": "markdown",
   "metadata": {},
   "source": [
    "Random forests are an ensemble technique that combines many decision trees to boost performance. The ensemble technique can be evaluated using various measures. Here we used the $R^2$ score. We learned about another ensemble machine learning technique to boost performance by control overfitting. "
   ]
  },
  {
   "cell_type": "code",
   "execution_count": null,
   "metadata": {},
   "outputs": [],
   "source": []
  }
 ],
 "metadata": {
  "kernelspec": {
   "display_name": "Python 3",
   "language": "python",
   "name": "python3"
  },
  "language_info": {
   "codemirror_mode": {
    "name": "ipython",
    "version": 3
   },
   "file_extension": ".py",
   "mimetype": "text/x-python",
   "name": "python",
   "nbconvert_exporter": "python",
   "pygments_lexer": "ipython3",
   "version": "3.8.8"
  }
 },
 "nbformat": 4,
 "nbformat_minor": 2
}
